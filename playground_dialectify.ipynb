{
 "cells": [
  {
   "attachments": {},
   "cell_type": "markdown",
   "metadata": {},
   "source": [
    "# Parse the sql to encode and decode only some parts of it"
   ]
  },
  {
   "cell_type": "code",
   "execution_count": 1,
   "metadata": {},
   "outputs": [
    {
     "name": "stdout",
     "output_type": "stream",
     "text": [
      "SELECT name, age, email FROM users\n"
     ]
    }
   ],
   "source": [
    "import sqlparse\n",
    "\n",
    "# Define the SQL statement\n",
    "sql_statement = \"SELECT name, age, email FROM users\"\n",
    "\n",
    "# Parse the SQL statement using sqlparse\n",
    "parsed_statement = sqlparse.parse(sql_statement)[0]\n",
    "\n",
    "print(parsed_statement)\n",
    "\n",
    "# Extract the field names from the SELECT statement\n",
    "# fields = [str(token) for token in parsed_statement.tokens if token.ttype is sqlparse.tokens.Name]\n",
    "\n",
    "# # Print the field names\n",
    "# print(fields)\n"
   ]
  },
  {
   "cell_type": "code",
   "execution_count": 2,
   "metadata": {},
   "outputs": [
    {
     "data": {
      "text/plain": [
       "['__all__',\n",
       " '__builtins__',\n",
       " '__cached__',\n",
       " '__doc__',\n",
       " '__file__',\n",
       " '__loader__',\n",
       " '__name__',\n",
       " '__package__',\n",
       " '__path__',\n",
       " '__spec__',\n",
       " '__version__',\n",
       " 'cli',\n",
       " 'engine',\n",
       " 'exceptions',\n",
       " 'filters',\n",
       " 'format',\n",
       " 'formatter',\n",
       " 'keywords',\n",
       " 'lexer',\n",
       " 'parse',\n",
       " 'parsestream',\n",
       " 'split',\n",
       " 'sql',\n",
       " 'tokens',\n",
       " 'utils']"
      ]
     },
     "execution_count": 2,
     "metadata": {},
     "output_type": "execute_result"
    }
   ],
   "source": [
    "import glob\n",
    "dir(sqlparse)"
   ]
  },
  {
   "cell_type": "code",
   "execution_count": null,
   "metadata": {},
   "outputs": [
    {
     "data": {
      "text/plain": [
       "['select * from foo;', 'select * from bar;']"
      ]
     },
     "execution_count": 4,
     "metadata": {},
     "output_type": "execute_result"
    }
   ],
   "source": [
    "raw = 'select * from foo; select * from bar;'\n",
    "statements = sqlparse.split(raw)\n",
    "statements\n"
   ]
  },
  {
   "cell_type": "code",
   "execution_count": 5,
   "metadata": {},
   "outputs": [
    {
     "name": "stdout",
     "output_type": "stream",
     "text": [
      "SELECT *\n",
      "FROM foo;\n"
     ]
    }
   ],
   "source": [
    "# Format the first statement and print it out:\n",
    "first = statements[0]\n",
    "print(sqlparse.format(first, reindent=True, keyword_case='upper'))\n"
   ]
  },
  {
   "cell_type": "code",
   "execution_count": 6,
   "metadata": {},
   "outputs": [
    {
     "ename": "AttributeError",
     "evalue": "module 'sqlparse' has no attribute 'get_identifiers'",
     "output_type": "error",
     "traceback": [
      "\u001b[0;31m---------------------------------------------------------------------------\u001b[0m",
      "\u001b[0;31mAttributeError\u001b[0m                            Traceback (most recent call last)",
      "Cell \u001b[0;32mIn[6], line 1\u001b[0m\n\u001b[0;32m----> 1\u001b[0m identify \u001b[39m=\u001b[39m sqlparse\u001b[39m.\u001b[39;49mget_identifiers(\u001b[39m'\u001b[39m\u001b[39mselect order.orderid, order.order_name, revenue.order_id, r.product_name, revenue.cost from orders o join revenue r on r.order_id  = r.order_id order by order.orderid desc\u001b[39m\u001b[39m'\u001b[39m)[\u001b[39m0\u001b[39m]\n\u001b[1;32m      2\u001b[0m \u001b[39mprint\u001b[39m(identify\u001b[39m.\u001b[39mtokens)\n",
      "\u001b[0;31mAttributeError\u001b[0m: module 'sqlparse' has no attribute 'get_identifiers'"
     ]
    }
   ],
   "source": [
    "identify = sqlparse.get_identifiers('select order.orderid, order.order_name, revenue.order_id, r.product_name, revenue.cost from orders o join revenue r on r.order_id  = r.order_id order by order.orderid desc')[0]\n",
    "print(identify.tokens)"
   ]
  },
  {
   "cell_type": "code",
   "execution_count": 4,
   "metadata": {},
   "outputs": [
    {
     "data": {
      "text/plain": [
       "[<DML 'select' at 0x118EAAE60>,\n",
       " <Whitespace ' ' at 0x11990D900>,\n",
       " <IdentifierList 'order....' at 0x119909F50>,\n",
       " <Whitespace ' ' at 0x11990F880>,\n",
       " <Keyword 'from' at 0x11990F8E0>,\n",
       " <Whitespace ' ' at 0x11990F940>,\n",
       " <Identifier 'orders...' at 0x119909CB0>,\n",
       " <Whitespace ' ' at 0x11990FAC0>,\n",
       " <Keyword 'join' at 0x11990FB20>,\n",
       " <Whitespace ' ' at 0x11990FB80>,\n",
       " <Identifier 'revenu...' at 0x119909D90>,\n",
       " <Whitespace ' ' at 0x11990FD00>,\n",
       " <Keyword 'on' at 0x11990FD60>,\n",
       " <Whitespace ' ' at 0x11990FDC0>,\n",
       " <Comparison 'r.orde...' at 0x119909EE0>,\n",
       " <Whitespace ' ' at 0x119934220>,\n",
       " <Keyword 'order ...' at 0x119934280>,\n",
       " <Whitespace ' ' at 0x1199342E0>,\n",
       " <Identifier 'order....' at 0x119909E70>]"
      ]
     },
     "execution_count": 4,
     "metadata": {},
     "output_type": "execute_result"
    }
   ],
   "source": [
    "parsed = sqlparse.parse('select order.orderid, order.order_name, revenue.order_id, r.product_name, revenue.cost from orders o join revenue r on r.order_id  = r.order_id order by order.orderid desc')[0]\n",
    "parsed.tokens"
   ]
  },
  {
   "cell_type": "code",
   "execution_count": 23,
   "metadata": {},
   "outputs": [
    {
     "name": "stdout",
     "output_type": "stream",
     "text": [
      "Token 0: select\n",
      "Token 1:  \n",
      "Token 2: order.orderid, order.order_name, revenue.order_id, r.product_name, revenue.cost\n",
      "Token 3:  \n",
      "Token 4: from\n",
      "Token 5:  \n",
      "Token 6: orders o\n",
      "Token 7:  \n",
      "Token 8: join\n",
      "Token 9:  \n",
      "Token 10: revenue r\n",
      "Token 11:  \n",
      "Token 12: on\n",
      "Token 13:  \n",
      "Token 14: r.order_id  = r.order_id\n",
      "Token 15:  \n",
      "Token 16: order by\n",
      "Token 17:  \n",
      "Token 18: order.orderid desc\n"
     ]
    }
   ],
   "source": [
    "# Parsing a SQL statement:\n",
    "parsed = sqlparse.parse('select order.orderid, order.order_name, revenue.order_id, r.product_name, revenue.cost from orders o join revenue r on r.order_id  = r.order_id order by order.orderid desc')[0]\n",
    "parsed_tokens = parsed.tokens\n",
    "for i, token in enumerate(parsed_tokens):\n",
    "    print(f\"Token {i}: {token}\")"
   ]
  },
  {
   "cell_type": "code",
   "execution_count": 24,
   "metadata": {},
   "outputs": [
    {
     "name": "stdout",
     "output_type": "stream",
     "text": [
      "Token: 14\n",
      "IdentifierList: 1\n",
      "Identifier: 3\n",
      "Comparison: 1\n"
     ]
    }
   ],
   "source": [
    "parsed_tokens = parsed.tokens\n",
    "token_counts = {}\n",
    "\n",
    "for i, token in enumerate(parsed_tokens):\n",
    "    tok_type = type(token).__name__\n",
    "    if tok_type in token_counts:\n",
    "        token_counts[tok_type] += 1\n",
    "    else:\n",
    "        token_counts[tok_type] = 1\n",
    "\n",
    "for tok_type, count in token_counts.items():\n",
    "    print(f\"{tok_type}: {count}\")"
   ]
  },
  {
   "cell_type": "code",
   "execution_count": 17,
   "metadata": {},
   "outputs": [],
   "source": [
    "#rewrite above function but return a list of fields per type in a data table\n",
    "def get_fields(parsed):\n",
    "    parsed_tokens = parsed.tokens\n",
    "    token_counts = {}\n",
    "    for i, token in enumerate(parsed_tokens):\n",
    "        tok_type = type(token).__name__\n",
    "        if tok_type in token_counts:\n",
    "            token_counts[tok_type].append(token)\n",
    "        else:\n",
    "            token_counts[tok_type] = [token]\n",
    "    #return a dictionary of types and their corresponding tokens in a data table\n",
    "    return token_counts\n"
   ]
  },
  {
   "cell_type": "code",
   "execution_count": 19,
   "metadata": {},
   "outputs": [],
   "source": [
    "def get_fields(parsed):\n",
    "    parsed_tokens = parsed.tokens\n",
    "    token_counts = {}\n",
    "    for i, token in enumerate(parsed_tokens):\n",
    "        tok_type = type(token).__name__\n",
    "        if tok_type == 'Whitespace' or tok_type == 'Keyword':\n",
    "            continue\n",
    "        if tok_type in token_counts:\n",
    "            token_counts[tok_type].append(str(token))\n",
    "        else:\n",
    "            token_counts[tok_type] = [str(token)]\n",
    "    #return a list of fields per type in a data table\n",
    "    return token_counts\n"
   ]
  },
  {
   "cell_type": "code",
   "execution_count": 61,
   "metadata": {},
   "outputs": [
    {
     "name": "stdout",
     "output_type": "stream",
     "text": [
      "Token: ['SELECT', ' ', ' ', 'FROM', ' ', ' ']\n",
      "IdentifierList: ['first_name, last_name']\n",
      "Identifier: ['employees']\n",
      "Where: ['WHERE salary > 50000']\n"
     ]
    }
   ],
   "source": [
    "from sqlparse import parse\n",
    "\n",
    "# Example SQL query\n",
    "#query = \"select order.order_id, order.order_name, revenue.order_id, r.product_name, revenue.cost from orders o join revenue r on r.order_id  = r.order_id order by order.orderid desc\"\n",
    "query = \"SELECT first_name, last_name FROM employees WHERE salary > 50000\"\n",
    "\n",
    "# Parse the query into tokens\n",
    "parsed = parse(query)[0]\n",
    "\n",
    "# Get the fields in the parsed query\n",
    "fields = get_fields(parsed)\n",
    "\n",
    "# Print out the types and tokens in the data table\n",
    "for tok_type, tokens in fields.items():\n",
    "    print(f\"{tok_type}: {tokens}\")\n"
   ]
  },
  {
   "cell_type": "code",
   "execution_count": null,
   "metadata": {},
   "outputs": [
    {
     "name": "stdout",
     "output_type": "stream",
     "text": [
      "['orders o', 'revenue r', 'order', 'orderid desc']\n"
     ]
    }
   ],
   "source": [
    "import sqlparse\n",
    "\n",
    "def get_identifiers(parsed):\n",
    "    parsed_tokens = parsed.tokens\n",
    "    identifiers = []\n",
    "    for token in parsed_tokens:\n",
    "        tok_type = type(token).__name__\n",
    "        if tok_type == 'Whitespace':\n",
    "            continue\n",
    "        elif tok_type == 'Keyword':\n",
    "            continue\n",
    "        elif tok_type == 'Identifier':\n",
    "            identifier = str(token)\n",
    "            if '.' in identifier:\n",
    "                identifiers.extend(identifier.split('.'))\n",
    "            else:\n",
    "                identifiers.append(identifier)\n",
    "        elif tok_type == 'Name':\n",
    "            identifiers.append(str(token))\n",
    "    return identifiers\n",
    "\n",
    "#sql = \"SELECT first_name, last_name FROM employees WHERE department='Sales'\"\n",
    "sql = \"select order.order_id, order.order_name, revenue.order_id, r.product_name, revenue.cost from orders o join revenue r on r.order_id  = r.order_id order by order.orderid desc\"\n",
    "\n",
    "parsed = sqlparse.parse(sql)[0]\n",
    "identifiers = get_identifiers(parsed)\n",
    "print(identifiers)\n",
    "\n"
   ]
  },
  {
   "cell_type": "code",
   "execution_count": 41,
   "metadata": {},
   "outputs": [],
   "source": [
    "def get_identifiers(parsed):\n",
    "    parsed_tokens = parsed.tokens\n",
    "    identifier_list = []\n",
    "    for token in parsed_tokens:\n",
    "        tok_type = type(token).__name__\n",
    "        if tok_type == 'IdentifierList':\n",
    "            for identifier in token.get_identifiers():\n",
    "                if not isinstance(identifier, sqlparse.sql.Identifier):\n",
    "                    continue\n",
    "                identifier_name = identifier.get_name()\n",
    "                if '.' in identifier_name:\n",
    "                    identifier_name = identifier_name.split('.')[1]\n",
    "                identifier_list.append(identifier_name)\n",
    "        elif tok_type == 'Identifier':\n",
    "            identifier_name = token.get_name()\n",
    "            if '.' in identifier_name:\n",
    "                identifier_name = identifier_name.split('.')[1]\n",
    "            identifier_list.append(identifier_name)\n",
    "    return identifier_list\n"
   ]
  },
  {
   "cell_type": "code",
   "execution_count": null,
   "metadata": {},
   "outputs": [
    {
     "name": "stdout",
     "output_type": "stream",
     "text": [
      "['orders o', 'revenue r', 'order', 'orderid desc']\n"
     ]
    }
   ],
   "source": [
    "import sqlparse\n",
    "\n",
    "def get_identifiers(parsed):\n",
    "    parsed_tokens = parsed.tokens\n",
    "    identifiers = []\n",
    "    for token in parsed_tokens:\n",
    "        tok_type = type(token).__name__\n",
    "        if tok_type == 'Whitespace':\n",
    "            continue\n",
    "        elif tok_type == 'Keyword':\n",
    "            continue\n",
    "        elif tok_type == 'Identifier':\n",
    "            identifier = str(token)\n",
    "            if '.' in identifier:\n",
    "                identifiers.extend(identifier.split('.'))\n",
    "            else:\n",
    "                identifiers.append(identifier)\n",
    "        elif tok_type == 'Name':\n",
    "            identifiers.append(str(token))\n",
    "    return identifiers\n",
    "\n",
    "#sql = \"SELECT first_name, last_name FROM employees WHERE department='Sales'\"\n",
    "sql = \"select order.order_id, order.order_name, revenue.order_id, r.product_name, revenue.cost from orders o join revenue r on r.order_id  = r.order_id order by order.orderid desc\"\n",
    "\n",
    "parsed = sqlparse.parse(sql)[0]\n",
    "identifiers = get_identifiers(parsed)\n",
    "print(identifiers)\n",
    "\n"
   ]
  },
  {
   "cell_type": "code",
   "execution_count": null,
   "metadata": {},
   "outputs": [
    {
     "name": "stdout",
     "output_type": "stream",
     "text": [
      "['orders o', 'revenue r', 'order', 'orderid desc']\n"
     ]
    }
   ],
   "source": [
    "import sqlparse\n",
    "\n",
    "def get_identifiers(parsed):\n",
    "    parsed_tokens = parsed.tokens\n",
    "    identifiers = []\n",
    "    for token in parsed_tokens:\n",
    "        tok_type = type(token).__name__\n",
    "        if tok_type == 'Whitespace':\n",
    "            continue\n",
    "        elif tok_type == 'Keyword':\n",
    "            continue\n",
    "        elif tok_type == 'Identifier':\n",
    "            identifier = str(token)\n",
    "            if '.' in identifier:\n",
    "                identifiers.extend(identifier.split('.'))\n",
    "            else:\n",
    "                identifiers.append(identifier)\n",
    "        elif tok_type == 'Name':\n",
    "            identifiers.append(str(token))\n",
    "    return identifiers\n",
    "\n",
    "#sql = \"SELECT first_name, last_name FROM employees WHERE department='Sales'\"\n",
    "sql = \"select order.order_id, order.order_name, revenue.order_id, r.product_name, revenue.cost from orders o join revenue r on r.order_id  = r.order_id order by order.orderid desc\"\n",
    "\n",
    "parsed = sqlparse.parse(sql)[0]\n",
    "identifiers = get_identifiers(parsed)\n",
    "print(identifiers)\n",
    "\n"
   ]
  },
  {
   "cell_type": "code",
   "execution_count": 42,
   "metadata": {},
   "outputs": [
    {
     "name": "stdout",
     "output_type": "stream",
     "text": [
      "['column1', 'column2', 'table1']\n"
     ]
    }
   ],
   "source": [
    "import sqlparse\n",
    "\n",
    "sql = \"SELECT column1, column2 FROM table1 WHERE column3 = 'value'\"\n",
    "parsed = sqlparse.parse(sql)[0]\n",
    "\n",
    "identifiers = get_identifiers(parsed)\n",
    "print(identifiers)\n"
   ]
  },
  {
   "cell_type": "code",
   "execution_count": 50,
   "metadata": {},
   "outputs": [],
   "source": [
    "def get_identifier_list(parsed):\n",
    "    parsed_tokens = parsed.tokens\n",
    "    identifier_list = []\n",
    "    for token in parsed_tokens:\n",
    "        tok_type = type(token).__name__\n",
    "        if tok_type == 'IdentifierList':\n",
    "            for identifier in token.get_identifiers():\n",
    "                if not isinstance(identifier, sqlparse.sql.Identifier):\n",
    "                    continue\n",
    "                identifier_name = identifier.get_name()\n",
    "                if '.' in identifier_name:\n",
    "                    identifier_name = identifier_name.split('.')[1]\n",
    "                identifier_list.append(identifier_name)\n",
    "    return identifier_list\n"
   ]
  },
  {
   "cell_type": "code",
   "execution_count": 52,
   "metadata": {},
   "outputs": [
    {
     "name": "stdout",
     "output_type": "stream",
     "text": [
      "['column1', 'column2']\n"
     ]
    }
   ],
   "source": [
    "import sqlparse\n",
    "\n",
    "sql = \"SELECT column1, column2 FROM table1 WHERE column3 = 'value'\"\n",
    "parsed = sqlparse.parse(sql)[0]\n",
    "\n",
    "identifier_list = get_identifier_list(parsed)\n",
    "print(identifier_list)\n"
   ]
  },
  {
   "cell_type": "code",
   "execution_count": 72,
   "metadata": {},
   "outputs": [],
   "source": [
    "def get_tok_types(parsed):\n",
    "    parsed_tokens = parsed.tokens\n",
    "    tok_types = []\n",
    "    for token in parsed_tokens:\n",
    "        tok_type = type(token).__name__\n",
    "        if tok_type in ['Identifier', 'Comparison', 'IdentifierList', 'Where']:\n",
    "            tok_types.append(tok_type)\n",
    "    return tok_types\n"
   ]
  },
  {
   "cell_type": "code",
   "execution_count": 73,
   "metadata": {},
   "outputs": [
    {
     "name": "stdout",
     "output_type": "stream",
     "text": [
      "['IdentifierList', 'Identifier', 'Where']\n"
     ]
    }
   ],
   "source": [
    "import sqlparse\n",
    "\n",
    "query = \"SELECT first_name, last_name FROM employees WHERE salary > 50000\"\n",
    "parsed_query = sqlparse.parse(query)[0]\n",
    "tok_types = get_tok_types(parsed_query)\n",
    "print(tok_types)\n"
   ]
  },
  {
   "cell_type": "code",
   "execution_count": 85,
   "metadata": {},
   "outputs": [
    {
     "name": "stdout",
     "output_type": "stream",
     "text": [
      "[<DML 'SELECT' at 0x119F13FA0>, <Whitespace ' ' at 0x119F46E60>, <IdentifierList 'first_...' at 0x119F158C0>, <Whitespace ' ' at 0x119F47580>, <Keyword 'FROM' at 0x119F475E0>, <Whitespace ' ' at 0x119F47640>, <Identifier 'employ...' at 0x119F142E0>, <Whitespace ' ' at 0x119F47700>, <Where 'WHERE ...' at 0x119F05770>]\n"
     ]
    }
   ],
   "source": [
    "import sqlparse\n",
    "\n",
    "query = \"SELECT first_name, last_name FROM employees WHERE salary > 50000\"\n",
    "parsed_query = sqlparse.parse(query)[0]\n",
    "print(parsed_query.tokens)\n",
    "# tok_types = get_identifiers(query)\n",
    "# print(tok_types)"
   ]
  },
  {
   "cell_type": "code",
   "execution_count": 194,
   "metadata": {},
   "outputs": [
    {
     "name": "stdout",
     "output_type": "stream",
     "text": [
      "['first_name', 'employees', 'last_name', 'salary', 'department']\n"
     ]
    }
   ],
   "source": [
    "#Alles zusammen - Working for parsing fields from a sql statement. Decide to do it modularly, not sure why but this works. That is why\n",
    "#works for where!!!\n",
    "import sqlparse\n",
    "\n",
    "def get_where_fields(query):\n",
    "    parsed_query = sqlparse.parse(query)[0]\n",
    "    where_clause = None\n",
    "    for token in parsed_query.tokens:\n",
    "        if isinstance(token, sqlparse.sql.Where):\n",
    "            where_clause = token\n",
    "            break\n",
    "    if not where_clause:\n",
    "        return []\n",
    "    fields = []\n",
    "    for token in where_clause.tokens:\n",
    "        if isinstance(token, sqlparse.sql.Comparison):\n",
    "            left = token.left\n",
    "            if isinstance(left, sqlparse.sql.Identifier):\n",
    "                fields.append(left.get_name())\n",
    "            elif isinstance(left, sqlparse.sql.Function):\n",
    "                fields.append(left.tokens[0].get_name())\n",
    "    return fields\n",
    "\n",
    "# Works for identifiers\n",
    "def get_identifiers(query):\n",
    "    parsed_tokens = sqlparse.parse(query)[0]\n",
    "    identifier_set = set()\n",
    "    for token in parsed_tokens:\n",
    "        if isinstance(token, sqlparse.sql.IdentifierList):\n",
    "            for identifier in token.get_identifiers():\n",
    "                identifier_name = identifier.get_name()\n",
    "                if '.' in identifier_name:\n",
    "                    identifier_name = identifier_name.split('.')[1]\n",
    "                identifier_set.add(identifier_name)\n",
    "        elif isinstance(token, sqlparse.sql.Identifier):\n",
    "            identifier_name = token.get_name()\n",
    "            if '.' in identifier_name:\n",
    "                identifier_name = identifier_name.split('.')[1]\n",
    "            identifier_set.add(identifier_name)\n",
    "    return list(identifier_set)\n",
    "\n",
    "import sqlparse\n",
    "query = \"SELECT first_name, last_name FROM employees WHERE salary > 50000 AND department = 'Sales'\"\n",
    "identifiers = get_identifiers(query)\n",
    "where_fields = get_where_fields(query)\n",
    "print(identifiers + where_fields)"
   ]
  }
 ],
 "metadata": {
  "kernelspec": {
   "display_name": ".venv",
   "language": "python",
   "name": "python3"
  },
  "language_info": {
   "codemirror_mode": {
    "name": "ipython",
    "version": 3
   },
   "file_extension": ".py",
   "mimetype": "text/x-python",
   "name": "python",
   "nbconvert_exporter": "python",
   "pygments_lexer": "ipython3",
   "version": "3.10.4"
  },
  "orig_nbformat": 4
 },
 "nbformat": 4,
 "nbformat_minor": 2
}
