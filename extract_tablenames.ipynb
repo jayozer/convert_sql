{
 "cells": [
  {
   "cell_type": "code",
   "execution_count": 11,
   "metadata": {},
   "outputs": [
    {
     "name": "stdout",
     "output_type": "stream",
     "text": [
      "Requirement already satisfied: pandas in ./.venv/lib/python3.10/site-packages (1.5.3)\n",
      "Requirement already satisfied: python-dateutil>=2.8.1 in ./.venv/lib/python3.10/site-packages (from pandas) (2.8.2)\n",
      "Requirement already satisfied: pytz>=2020.1 in ./.venv/lib/python3.10/site-packages (from pandas) (2022.7.1)\n",
      "Requirement already satisfied: numpy>=1.21.0 in ./.venv/lib/python3.10/site-packages (from pandas) (1.24.2)\n",
      "Requirement already satisfied: six>=1.5 in ./.venv/lib/python3.10/site-packages (from python-dateutil>=2.8.1->pandas) (1.16.0)\n"
     ]
    }
   ],
   "source": [
    "! pip install pandas"
   ]
  },
  {
   "cell_type": "code",
   "execution_count": 18,
   "metadata": {},
   "outputs": [],
   "source": [
    "import re"
   ]
  },
  {
   "cell_type": "code",
   "execution_count": 20,
   "metadata": {},
   "outputs": [],
   "source": [
    "def tables_in_query(sql_str):\n",
    "\n",
    "    # remove the /* */ comments\n",
    "    q = re.sub(r\"/\\*[^*]*\\*+(?:[^*/][^*]*\\*+)*/\", \"\", sql_str)\n",
    "\n",
    "    # remove whole line -- and # comments\n",
    "    lines = [line for line in q.splitlines() if not re.match(\"^\\s*(--|#)\", line)]\n",
    "\n",
    "    # remove trailing -- and # comments\n",
    "    q = \" \".join([re.split(\"--|#\", line)[0] for line in lines])\n",
    "\n",
    "    # split on blanks, parens and semicolons\n",
    "    tokens = re.split(r\"[\\s)(;]+\", q)\n",
    "\n",
    "    # scan the tokens. if we see a FROM or JOIN, we set the get_next\n",
    "    # flag, and grab the next one (unless it's SELECT).\n",
    "\n",
    "    result = set()\n",
    "    get_next = False\n",
    "    for tok in tokens:\n",
    "        if get_next:\n",
    "            if tok.lower() not in [\"\", \"select\"]:\n",
    "                result.add(tok)\n",
    "            get_next = False\n",
    "        get_next = tok.lower() in [\"from\", \"join\"]\n",
    "\n",
    "    return result\n"
   ]
  },
  {
   "cell_type": "code",
   "execution_count": 21,
   "metadata": {},
   "outputs": [
    {
     "data": {
      "text/plain": [
       "{'orders', 'revenue'}"
      ]
     },
     "execution_count": 21,
     "metadata": {},
     "output_type": "execute_result"
    }
   ],
   "source": [
    "query =\"select top 10 getdate(), order_number, client_name, sum(net_revenue) from orders o join revenue r on o.order_id = r.order_id\"\n",
    "tables_in_query(query)"
   ]
  },
  {
   "cell_type": "code",
   "execution_count": 4,
   "metadata": {},
   "outputs": [
    {
     "name": "stdout",
     "output_type": "stream",
     "text": [
      "NAME: id           DEFINITION: integer primary key\n",
      "NAME: title        DEFINITION: varchar 200 not null\n",
      "NAME: description  DEFINITION: text\n"
     ]
    }
   ],
   "source": [
    "# Example for retrieving column definitions from a CREATE statement\n",
    "# using low-level functions.\n",
    "\n",
    "import sqlparse\n",
    "\n",
    "\n",
    "def extract_definitions(token_list):\n",
    "    # assumes that token_list is a parenthesis\n",
    "    definitions = []\n",
    "    tmp = []\n",
    "    par_level = 0\n",
    "    for token in token_list.flatten():\n",
    "        if token.is_whitespace:\n",
    "            continue\n",
    "        elif token.match(sqlparse.tokens.Punctuation, '('):\n",
    "            par_level += 1\n",
    "            continue\n",
    "        if token.match(sqlparse.tokens.Punctuation, ')'):\n",
    "            if par_level == 0:\n",
    "                break\n",
    "            else:\n",
    "                par_level += 1\n",
    "        elif token.match(sqlparse.tokens.Punctuation, ','):\n",
    "            if tmp:\n",
    "                definitions.append(tmp)\n",
    "            tmp = []\n",
    "        else:\n",
    "            tmp.append(token)\n",
    "    if tmp:\n",
    "        definitions.append(tmp)\n",
    "    return definitions\n",
    "\n",
    "\n",
    "if __name__ == '__main__':\n",
    "    SQL = \"\"\"CREATE TABLE foo (\n",
    "             id integer primary key,\n",
    "             title varchar(200) not null,\n",
    "             description text);\"\"\"\n",
    "\n",
    "    parsed = sqlparse.parse(SQL)[0]\n",
    "\n",
    "    # extract the parenthesis which holds column definitions\n",
    "    _, par = parsed.token_next_by(i=sqlparse.sql.Parenthesis)\n",
    "    columns = extract_definitions(par)\n",
    "\n",
    "    for column in columns:\n",
    "        print('NAME: {name!s:12} DEFINITION: {definition}'.format(\n",
    "            name=column[0], definition=' '.join(str(t) for t in column[1:])))"
   ]
  },
  {
   "cell_type": "code",
   "execution_count": 23,
   "metadata": {},
   "outputs": [],
   "source": [
    "import sqlparse\n",
    "\n",
    "def get_identifiers(query):\n",
    "    parsed_tokens = sqlparse.parse(query)[0]\n",
    "    identifier_set = set()\n",
    "    \n",
    "    reserved_words = ['TOP', 'SELECT', 'FROM', 'WHERE', 'JOIN', 'LEFT', 'RIGHT', 'INNER', 'OUTER', 'ON', 'GROUP', 'BY', 'HAVING', 'ORDER', 'ASC', 'DESC']\n",
    "\n",
    "    for token in parsed_tokens.tokens:\n",
    "        # If the token is a function, skip it\n",
    "        if isinstance(token, sqlparse.sql.Function) or token.value.upper() in reserved_words:\n",
    "            continue\n",
    "        if isinstance(token, sqlparse.sql.Function):\n",
    "            continue\n",
    "        if isinstance(token, sqlparse.sql.IdentifierList):\n",
    "            for identifier in token.get_identifiers():\n",
    "                if isinstance(identifier, sqlparse.sql.Identifier):\n",
    "                    identifier_name = identifier.get_real_name()\n",
    "                    if '.' in identifier_name:\n",
    "                        identifier_name = identifier_name.split('.')[1]\n",
    "                    identifier_set.add(identifier_name)\n",
    "        # If the token is a comparison operator, get the column name\n",
    "        elif isinstance(token, sqlparse.sql.Comparison):\n",
    "            identifier_name = token.left.get_real_name()\n",
    "            if '.' in identifier_name:\n",
    "                identifier_name = identifier_name.split('.')[1]\n",
    "            identifier_set.add(identifier_name)\n",
    "        elif isinstance(token, sqlparse.sql.Identifier):\n",
    "            identifier_name = token.get_real_name()\n",
    "            if '.' in identifier_name:\n",
    "                identifier_name = identifier_name.split('.')[1]\n",
    "            identifier_set.add(identifier_name)\n",
    "    return list(identifier_set)\n"
   ]
  },
  {
   "cell_type": "code",
   "execution_count": 14,
   "metadata": {},
   "outputs": [
    {
     "ename": "NameError",
     "evalue": "name 'get_identifiers' is not defined",
     "output_type": "error",
     "traceback": [
      "\u001b[0;31m---------------------------------------------------------------------------\u001b[0m",
      "\u001b[0;31mNameError\u001b[0m                                 Traceback (most recent call last)",
      "Cell \u001b[0;32mIn[14], line 2\u001b[0m\n\u001b[1;32m      1\u001b[0m query \u001b[39m=\u001b[39m\u001b[39m\"\u001b[39m\u001b[39mselect top 10 getdate(), order_number, client_name, sum(net_revenue) from orders o join revenue r on o.order_id = r.order_id\u001b[39m\u001b[39m\"\u001b[39m\n\u001b[0;32m----> 2\u001b[0m \u001b[39mprint\u001b[39m(get_identifiers(query))\n",
      "\u001b[0;31mNameError\u001b[0m: name 'get_identifiers' is not defined"
     ]
    }
   ],
   "source": [
    "query =\"select top 10 getdate(), order_number, client_name, sum(net_revenue) from orders o join revenue r on o.order_id = r.order_id\"\n",
    "print(get_identifiers(query))"
   ]
  }
 ],
 "metadata": {
  "kernelspec": {
   "display_name": ".venv",
   "language": "python",
   "name": "python3"
  },
  "language_info": {
   "codemirror_mode": {
    "name": "ipython",
    "version": 3
   },
   "file_extension": ".py",
   "mimetype": "text/x-python",
   "name": "python",
   "nbconvert_exporter": "python",
   "pygments_lexer": "ipython3",
   "version": "3.10.4"
  },
  "orig_nbformat": 4
 },
 "nbformat": 4,
 "nbformat_minor": 2
}
